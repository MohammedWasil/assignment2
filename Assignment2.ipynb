{
 "cells": [
  {
   "cell_type": "code",
   "execution_count": null,
   "id": "e2778b3d",
   "metadata": {},
   "outputs": [],
   "source": [
    "  ASSIGNMENT = 2"
   ]
  },
  {
   "cell_type": "code",
   "execution_count": 2,
   "id": "dbf336ba-4781-42cd-9026-672b98870249",
   "metadata": {},
   "outputs": [
    {
     "name": "stdin",
     "output_type": "stream",
     "text": [
      "Enter the number:  45\n"
     ]
    },
    {
     "name": "stdout",
     "output_type": "stream",
     "text": [
      "Grade, D\n"
     ]
    }
   ],
   "source": [
    "#Question: 1\n",
    "#Answer:\n",
    "a = int(input(\"Enter the number: \"))\n",
    "if a > 90:\n",
    "    print(\"Grade, A\")\n",
    "elif a > 80 and a <= 90:\n",
    "    print(\"Grade, B\")\n",
    "elif a >60 and a <=80:\n",
    "    print(\"Grade, C\")\n",
    "else:\n",
    "    print(\"Grade, D\")"
   ]
  },
  {
   "cell_type": "code",
   "execution_count": 3,
   "id": "caa88f88-c313-4abd-827f-845d0979e9e7",
   "metadata": {},
   "outputs": [
    {
     "name": "stdin",
     "output_type": "stream",
     "text": [
      "Enter the price of bike 56675\n"
     ]
    },
    {
     "name": "stdout",
     "output_type": "stream",
     "text": [
      "Tax to be paid  5667.5\n"
     ]
    }
   ],
   "source": [
    "#Question: 2\n",
    "#Answer:\n",
    "tax = 0\n",
    "p = int(input(\"Enter the price of bike\"))\n",
    "if p>100000:\n",
    "    tax = (15/100*p)\n",
    "elif p>50000 and p<=100000:\n",
    "    tax = (10/100*p)\n",
    "else:\n",
    "    tax = (5/100*p)\n",
    "print(\"Tax to be paid \", tax)"
   ]
  },
  {
   "cell_type": "code",
   "execution_count": 15,
   "id": "0d2dfe67-b77d-4a82-b5f3-dc3087512505",
   "metadata": {},
   "outputs": [
    {
     "name": "stdin",
     "output_type": "stream",
     "text": [
      "Enter name of the city delhi\n"
     ]
    },
    {
     "name": "stdout",
     "output_type": "stream",
     "text": [
      "Monument name is: Red Fort\n"
     ]
    }
   ],
   "source": [
    "#Question: 3\n",
    "#Answer:\n",
    "city = input(\"Enter name of the city\")\n",
    "if city.lower() == \"delhi\":\n",
    "    print(\"Monument name is: Red Fort\")\n",
    "elif citylower() == \"agra\":\n",
    "    print(\"Monument name is:Taj Mahal\")\n",
    "elif citylower() == \"jaipur\":\n",
    "    print(\"Monument name is:jaipur Mahal\")\n",
    "else:\n",
    "    print(\"Enter correct name of city\")"
   ]
  },
  {
   "cell_type": "code",
   "execution_count": 19,
   "id": "806ca389-c3ea-49a3-bf6b-2eee6b0df444",
   "metadata": {},
   "outputs": [
    {
     "name": "stdin",
     "output_type": "stream",
     "text": [
      "Enter any number 3\n"
     ]
    },
    {
     "name": "stdout",
     "output_type": "stream",
     "text": [
      "Last digit of number is divisible by 3\n"
     ]
    }
   ],
   "source": [
    "#Question: 4\n",
    "#Answer:\n",
    "num = int(input(\"Enter any number\"))\n",
    "d=num%10\n",
    "if d%3==0:\n",
    "   print(\"Last digit of number is divisible by 3\")\n",
    "else:\n",
    "    print(\"Last digit of number is not divisible by 3\")"
   ]
  },
  {
   "cell_type": "code",
   "execution_count": null,
   "id": "10c25f17-93be-443b-a814-2772dcd1866f",
   "metadata": {},
   "outputs": [],
   "source": [
    "Question: 5\n",
    "Answer\n",
    "Python while loop is used to run a block code until a certain condition is met.\n",
    "The syntax of while loop is:\n",
    "1. A while loop evaluate the condition.\n",
    "2. If the condition evaluates to True, to code inside the while loop is executed.\n",
    "3. condition is evaluated again.\n",
    "4. This process continues until the condition is False.\n",
    "Example:\n",
    "    i = 1\n",
    "    n = 5\n",
    "    while i<=n:\n",
    "        print(i)\n",
    "        i = i+1\n",
    "output\n",
    "1\n",
    "2\n",
    "3\n",
    "4\n",
    "5"
   ]
  },
  {
   "cell_type": "code",
   "execution_count": null,
   "id": "0227061d-7158-4b41-8568-4b8a1d119960",
   "metadata": {},
   "outputs": [],
   "source": [
    "Question: 6\n",
    "Answer:\n",
    "i = 1\n",
    "while i<=5:\n",
    "    j=1\n",
    "    while j<=i:\n",
    "        print(j,end=\" \")\n",
    "        j = j+1\n",
    "    print(\" \")\n",
    "    i = i+1\n",
    "    "
   ]
  },
  {
   "cell_type": "code",
   "execution_count": null,
   "id": "846790c9-1164-4899-875e-ed1602fb8825",
   "metadata": {},
   "outputs": [],
   "source": [
    "#Question:7\n",
    "#Answer:\n",
    "i = 10\n",
    "while i>0:\n",
    "    print(i)\n",
    "    i = i-1\n",
    "output:\n",
    "10\n",
    "9\n",
    "8\n",
    "7\n",
    "6\n",
    "5\n",
    "4\n",
    "3\n",
    "2\n",
    "1"
   ]
  }
 ],
 "metadata": {
  "kernelspec": {
   "display_name": "Python 3 (ipykernel)",
   "language": "python",
   "name": "python3"
  },
  "language_info": {
   "codemirror_mode": {
    "name": "ipython",
    "version": 3
   },
   "file_extension": ".py",
   "mimetype": "text/x-python",
   "name": "python",
   "nbconvert_exporter": "python",
   "pygments_lexer": "ipython3",
   "version": "3.9.13"
  }
 },
 "nbformat": 4,
 "nbformat_minor": 5
}
